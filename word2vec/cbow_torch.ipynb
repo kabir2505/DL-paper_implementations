{
 "cells": [
  {
   "cell_type": "markdown",
   "metadata": {},
   "source": [
    "# Word Embeddings: Encoding Lexical Semantics"
   ]
  },
  {
   "cell_type": "markdown",
   "metadata": {},
   "source": [
    "https://pytorch.org/tutorials/beginner/nlp/word_embeddings_tutorial.html"
   ]
  },
  {
   "cell_type": "code",
   "execution_count": 2,
   "metadata": {},
   "outputs": [
    {
     "data": {
      "text/plain": [
       "<torch._C.Generator at 0x10996cdb0>"
      ]
     },
     "execution_count": 2,
     "metadata": {},
     "output_type": "execute_result"
    }
   ],
   "source": [
    "import torch\n",
    "import torch.nn as nn\n",
    "import torch.nn.functional as F\n",
    "import torch.optim as optim\n",
    "\n",
    "torch.manual_seed(42)"
   ]
  },
  {
   "cell_type": "code",
   "execution_count": 3,
   "metadata": {},
   "outputs": [
    {
     "data": {
      "text/plain": [
       "tensor([[ 0.3367,  0.1288,  0.2345,  0.2303, -1.1229]],\n",
       "       grad_fn=<EmbeddingBackward0>)"
      ]
     },
     "execution_count": 3,
     "metadata": {},
     "output_type": "execute_result"
    }
   ],
   "source": [
    "word_2_idx={\"hello\":0,\"world\":1}\n",
    "embeds=nn.Embedding(2,5) # 2 words in vocab, 5 dimensional embeddings\n",
    "lookup_tensor=torch.tensor([word_2_idx[\"hello\"]],dtype=torch.long)\n",
    "hello_embed=embeds(lookup_tensor)\n",
    "hello_embed"
   ]
  },
  {
   "cell_type": "code",
   "execution_count": 4,
   "metadata": {},
   "outputs": [
    {
     "data": {
      "text/plain": [
       "tensor([[ 0.3367,  0.1288,  0.2345,  0.2303, -1.1229]],\n",
       "       grad_fn=<EmbeddingBackward0>)"
      ]
     },
     "execution_count": 4,
     "metadata": {},
     "output_type": "execute_result"
    }
   ],
   "source": [
    "hello_embed"
   ]
  },
  {
   "cell_type": "code",
   "execution_count": 5,
   "metadata": {},
   "outputs": [
    {
     "data": {
      "text/plain": [
       "tensor([0])"
      ]
     },
     "execution_count": 5,
     "metadata": {},
     "output_type": "execute_result"
    }
   ],
   "source": [
    "lookup_tensor"
   ]
  },
  {
   "cell_type": "markdown",
   "metadata": {},
   "source": [
    "embeds = nn.Embedding(2, 5)  # 2 words in vocabulary, each with 5 dimensions  \n",
    "The embedding layer here **does not know** and **does not care** about the words in the dictionary ; it just knows it has 2 indices 0 and 1, that it will learn embeddings for..  \n",
    "The mapping word_2_idx = {\"hello\": 0, \"world\": 1} is done by you, you decide hello is associated with 0 and world with 1  \n"
   ]
  },
  {
   "cell_type": "markdown",
   "metadata": {},
   "source": [
    "- The connection between \"hello\" and index 0 is made **outside the embedding layer** , in the word_2_idx dict  \n",
    "- So, Row 0 doesnt inherently correspond to the word helo inside the embedding layer - it only corresponds to hello because you have manually mapped \"hello\" to index 0 with word_2_idx dict"
   ]
  },
  {
   "cell_type": "markdown",
   "metadata": {},
   "source": [
    "- Initially, the embeddings are just random numbers with no inherent meaning .\n",
    "- The embedding layer doesnt understand the meaning of \"hello\" or \"world\" right away. It starts with random numbers and learns meaningful embeddings **during training** :)\n",
    "- During training, (with models like **Word2Vec**,**CBOW**) the model learns to adjust these embeddings based on the relationships in the training data"
   ]
  },
  {
   "cell_type": "markdown",
   "metadata": {},
   "source": [
    "### N-gram language modeling"
   ]
  },
  {
   "cell_type": "code",
   "execution_count": 6,
   "metadata": {},
   "outputs": [
    {
     "name": "stdout",
     "output_type": "stream",
     "text": [
      "[(['forty', 'When'], 'winters'), (['winters', 'forty'], 'shall'), (['shall', 'winters'], 'besiege')]\n",
      "[519.7147989273071, 517.6384611129761, 515.5738348960876, 513.5212025642395, 511.4800395965576, 509.4487085342407, 507.42717242240906, 505.41412138938904, 503.4089243412018, 501.4102556705475]\n",
      "tensor([-0.1563,  1.1377, -0.2516,  1.6710,  1.8876, -0.7539, -1.7129, -2.2062,\n",
      "         0.3658, -0.4012], grad_fn=<SelectBackward0>)\n"
     ]
    }
   ],
   "source": [
    "context_size=2\n",
    "embedding_dim=10\n",
    "\n",
    "# We will use Shakespeare Sonnet 2\n",
    "test_sentence = \"\"\"When forty winters shall besiege thy brow,\n",
    "And dig deep trenches in thy beauty's field,\n",
    "Thy youth's proud livery so gazed on now,\n",
    "Will be a totter'd weed of small worth held:\n",
    "Then being asked, where all thy beauty lies,\n",
    "Where all the treasure of thy lusty days;\n",
    "To say, within thine own deep sunken eyes,\n",
    "Were an all-eating shame, and thriftless praise.\n",
    "How much more praise deserv'd thy beauty's use,\n",
    "If thou couldst answer 'This fair child of mine\n",
    "Shall sum my count, and make my old excuse,'\n",
    "Proving his beauty by succession thine!\n",
    "This were to be new made when thou art old,\n",
    "And see thy blood warm when thou feel'st it cold.\"\"\".split()\n",
    "\n",
    "ngrams=[\n",
    "    (\n",
    "        [test_sentence[i-j-1] for j in range(context_size)],\n",
    "        test_sentence[i]\n",
    "    )\n",
    "\n",
    "    for i in range(context_size,len(test_sentence))\n",
    "\n",
    "]\n",
    "\n",
    "print(ngrams[:3])\n",
    "\n",
    "vocab=set(test_sentence)\n",
    "word_2_idx={word:i for i,word in enumerate(vocab)}\n",
    "\n",
    "class NGramLanguageModeler(nn.Module):\n",
    "    def __init__(self,vocab_size,embedding_dim,context_size):\n",
    "        super().__init__()\n",
    "        self.embeddings=nn.Embedding(vocab_size,embedding_dim)\n",
    "        self.linear1=nn.Linear(context_size*embedding_dim,128)\n",
    "        self.linear2=nn.Linear(128,vocab_size)\n",
    "    \n",
    "    def forward(self,inputs):\n",
    "        embeds=self.embeddings(inputs).view((1,-1))\n",
    "        out=F.relu(self.linear1(embeds))\n",
    "        out = self.linear2(out)\n",
    "        log_probs = F.log_softmax(out, dim=1)\n",
    "        return log_probs\n",
    "losses = []\n",
    "loss_function = nn.NLLLoss()\n",
    "model = NGramLanguageModeler(len(vocab), embedding_dim, context_size)\n",
    "optimizer = optim.SGD(model.parameters(), lr=0.001)\n",
    "\n",
    "for epoch in range(10):\n",
    "    total_loss = 0\n",
    "    for context, target in ngrams:\n",
    "\n",
    "        # Step 1. Prepare the inputs to be passed to the model (i.e, turn the words\n",
    "        # into integer indices and wrap them in tensors)\n",
    "        context_idxs = torch.tensor([word_2_idx[w] for w in context], dtype=torch.long)\n",
    "\n",
    "        # Step 2. Recall that torch *accumulates* gradients. Before passing in a\n",
    "        # new instance, you need to zero out the gradients from the old\n",
    "        # instance\n",
    "        model.zero_grad()\n",
    "\n",
    "        # Step 3. Run the forward pass, getting log probabilities over next\n",
    "        # words\n",
    "        log_probs = model(context_idxs)\n",
    "\n",
    "        # Step 4. Compute your loss function. (Again, Torch wants the target\n",
    "        # word wrapped in a tensor)\n",
    "        loss = loss_function(log_probs, torch.tensor([word_2_idx[target]], dtype=torch.long))\n",
    "\n",
    "        # Step 5. Do the backward pass and update the gradient\n",
    "        loss.backward()\n",
    "        optimizer.step()\n",
    "\n",
    "        # Get the Python number from a 1-element Tensor by calling tensor.item()\n",
    "        total_loss += loss.item()\n",
    "    losses.append(total_loss)\n",
    "print(losses)  # The loss decreased every iteration over the training data!\n",
    "\n",
    "# To get the embedding of a particular word, e.g. \"beauty\"\n",
    "print(model.embeddings.weight[word_2_idx[\"beauty\"]])\n"
   ]
  },
  {
   "cell_type": "markdown",
   "metadata": {},
   "source": [
    "## Computing Word Embeddings: Continuous Bag-of-Words"
   ]
  },
  {
   "cell_type": "code",
   "execution_count": 15,
   "metadata": {},
   "outputs": [
    {
     "name": "stdout",
     "output_type": "stream",
     "text": [
      "[(['are', 'We', 'to', 'study'], 'about'), (['about', 'are', 'study', 'the'], 'to'), (['to', 'about', 'the', 'idea'], 'study'), (['study', 'to', 'idea', 'of'], 'the'), (['the', 'study', 'of', 'a'], 'idea')]\n",
      "[230.11812114715576, 228.40634560585022, 226.7197527885437, 225.05737447738647, 223.41830158233643, 221.80166816711426, 220.20665979385376, 218.6325056552887, 217.0784628391266, 215.54383444786072, 214.0279405117035, 212.53013849258423, 211.04980731010437, 209.58635067939758, 208.1391944885254, 206.70777940750122, 205.29157423973083, 203.8900547027588, 202.50272417068481, 201.12909531593323, 199.76869869232178, 198.42108130455017, 197.08579683303833, 195.76242399215698, 194.4505476951599, 193.14976859092712, 191.8596968650818, 190.5799629688263, 189.31020283699036, 188.05006504058838, 186.79921913146973, 185.55733728408813, 184.32410621643066, 183.0992271900177, 181.88240790367126, 180.6733739376068, 179.47185623645782, 178.27760219573975, 177.09036469459534, 175.90991342067719, 174.73602402210236, 173.5684802532196, 172.40708768367767, 171.251646399498, 170.1019787788391, 168.9579063653946, 167.81926810741425, 166.6859132051468, 165.55768990516663, 164.43446338176727, 163.31610691547394, 162.20249605178833, 161.0935173034668, 159.9890706539154, 158.8890551328659, 157.79338312149048, 156.70197057724, 155.61474204063416, 154.53162670135498, 153.45256459712982, 152.37750387191772, 151.30638349056244, 150.23916399478912, 149.17580497264862, 148.1162748336792, 147.0605502128601, 146.00859665870667, 144.96040380001068, 143.91596007347107, 142.87525308132172, 141.83827185630798, 140.80502450466156, 139.77551186084747, 138.74974083900452, 137.72772574424744, 136.70947432518005, 135.6950067281723, 134.6843400001526, 133.67750132083893, 132.67451179027557, 131.6754014492035, 130.68020451068878, 129.68894708156586, 128.7016645669937, 127.71839821338654, 126.73917770385742, 125.76405203342438, 124.79305064678192, 123.82622444629669, 122.8636155128479, 121.90526175498962, 120.9512095451355, 120.00151008367538, 119.05620175600052, 118.11533641815186, 117.17895716428757, 116.24711084365845, 115.31984657049179, 114.39720594882965, 113.47923594713211]\n",
      "tensor([ 0.7805,  0.0149,  0.1772, -0.7401,  0.8486,  0.5377,  1.3236, -0.4459,\n",
      "         0.7361,  0.1288], grad_fn=<SelectBackward0>)\n",
      "Predicted word for context ['a', 'process']: of\n",
      "Embedding for 'spirits': tensor([ 0.7805,  0.0149,  0.1772, -0.7401,  0.8486,  0.5377,  1.3236, -0.4459,\n",
      "         0.7361,  0.1288], grad_fn=<SelectBackward0>)\n"
     ]
    }
   ],
   "source": [
    "context_size=2\n",
    "raw_text = \"\"\"We are about to study the idea of a computational process.\n",
    "Computational processes are abstract beings that inhabit computers.\n",
    "As they evolve, processes manipulate other abstract things called data.\n",
    "The evolution of a process is directed by a pattern of rules\n",
    "called a program. People create programs to direct processes. In effect,\n",
    "we conjure the spirits of the computer with our spells.\"\"\".split()\n",
    "\n",
    "vocab=set(raw_text)\n",
    "vocab_size=len(vocab)\n",
    "\n",
    "word_2_idx={word:i for i,word in enumerate(vocab)}\n",
    "\n",
    "data=[]\n",
    "\n",
    "for i in range(context_size,len(raw_text)-context_size):\n",
    "    context=(\n",
    "        [raw_text[i-j-1]for j in range(context_size)] + [raw_text[i+j+1] for j in range(context_size)]\n",
    "    )\n",
    "\n",
    "    target=raw_text[i]\n",
    "    data.append((context,target))\n",
    "\n",
    "print(data[:5])\n",
    "class CBOW(nn.Module):\n",
    "    def __init__(self,vocab_size,embedding_dim):\n",
    "        super().__init__()\n",
    "        self.embeddings=nn.Embedding(vocab_size,embedding_dim) # W1 or W_context\n",
    "        self.linear=nn.Linear(embedding_dim,vocab_size) # W_2 or W_word\n",
    "    \n",
    "    def forward(self,inputs):\n",
    "        embedded=self.embeddings(inputs) #W_context(input) = h\n",
    "        #mean\n",
    "        h=embedded.mean(dim=0)\n",
    "        out= self.linear(h) # W_word(h)\n",
    "        log_probs = F.log_softmax(out.unsqueeze(0), dim=1)\n",
    "        return log_probs\n",
    "\n",
    "\n",
    "def make_context_vector(context,word_2_idx):\n",
    "    idxs=[word_2_idx[w] for w in context]\n",
    "    return torch.tensor(idxs,dtype=torch.long)\n",
    "\n",
    "\n",
    "embedding_dim=10\n",
    "learning_rate=0.01\n",
    "\n",
    "\n",
    "losses=[]\n",
    "loss_fn=nn.NLLLoss()\n",
    "model=CBOW(vocab_size,embedding_dim)\n",
    "optimizer = optim.SGD(model.parameters(), lr=learning_rate)\n",
    "\n",
    "\n",
    "for epoch in range(100):\n",
    "    total_loss=0\n",
    "\n",
    "    for context,target in data:\n",
    "        context_vector=make_context_vector(context,word_2_idx)\n",
    "        target_idx=torch.tensor([word_2_idx[target]],dtype=torch.long)\n",
    "\n",
    "        optimizer.zero_grad()\n",
    "\n",
    "        log_probs=model(context_vector)\n",
    "        loss=loss_fn(log_probs,target_idx)\n",
    "\n",
    "        loss.backward()\n",
    "        optimizer.step()\n",
    "        total_loss+=loss.item()\n",
    "\n",
    "    losses.append(total_loss)\n",
    "print(losses)\n",
    "\n",
    "\n",
    "context_vector = make_context_vector(data[0][0], word_2_idx)\n",
    "output = model(context_vector)\n",
    "print(model.embeddings.weight[word_2_idx[\"spirits\"]])\n",
    "\n",
    "\n",
    "\n",
    "# Example prediction check after training\n",
    "context = [\"a\", \"process\"]  # Example context for prediction\n",
    "context_vector = make_context_vector(context, word_2_idx)\n",
    "model.eval()\n",
    "with torch.no_grad():\n",
    "    output = model(context_vector)\n",
    "    predicted_index = torch.argmax(output).item()\n",
    "    predicted_word = list(word_2_idx.keys())[predicted_index]\n",
    "    print(f\"Predicted word for context {context}: {predicted_word}\")\n",
    "\n",
    "\n",
    "# Check the embedding for a specific word\n",
    "word_to_check = \"spirits\"\n",
    "print(f\"Embedding for '{word_to_check}':\", model.embeddings.weight[word_2_idx[word_to_check]])\n",
    "        \n",
    "\n"
   ]
  }
 ],
 "metadata": {
  "kernelspec": {
   "display_name": "deep_learning",
   "language": "python",
   "name": "python3"
  },
  "language_info": {
   "codemirror_mode": {
    "name": "ipython",
    "version": 3
   },
   "file_extension": ".py",
   "mimetype": "text/x-python",
   "name": "python",
   "nbconvert_exporter": "python",
   "pygments_lexer": "ipython3",
   "version": "3.12.3"
  }
 },
 "nbformat": 4,
 "nbformat_minor": 2
}
