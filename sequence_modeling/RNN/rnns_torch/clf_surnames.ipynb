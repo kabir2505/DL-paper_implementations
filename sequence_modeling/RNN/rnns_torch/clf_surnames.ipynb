{
 "cells": [
  {
   "cell_type": "markdown",
   "metadata": {},
   "source": [
    "**glob** module -  to search for files that match a specific file pattern or name"
   ]
  },
  {
   "cell_type": "markdown",
   "metadata": {},
   "source": [
    "## Classifying names with a character level RNN"
   ]
  },
  {
   "cell_type": "code",
   "execution_count": 2,
   "metadata": {},
   "outputs": [
    {
     "name": "stdout",
     "output_type": "stream",
     "text": [
      "['data/names/Czech.txt', 'data/names/German.txt', 'data/names/Arabic.txt', 'data/names/Japanese.txt', 'data/names/Chinese.txt', 'data/names/Vietnamese.txt', 'data/names/Russian.txt', 'data/names/French.txt', 'data/names/Irish.txt', 'data/names/English.txt', 'data/names/Spanish.txt', 'data/names/Greek.txt', 'data/names/Italian.txt', 'data/names/Portuguese.txt', 'data/names/Scottish.txt', 'data/names/Dutch.txt', 'data/names/Korean.txt', 'data/names/Polish.txt']\n",
      "Slusarski\n"
     ]
    }
   ],
   "source": [
    "from io import open\n",
    "import glob\n",
    "import os\n",
    "\n",
    "def findFiles(path): return glob.glob(path)\n",
    "\n",
    "print(findFiles('data/names/*.txt'))\n",
    "\n",
    "import unicodedata\n",
    "import string\n",
    "\n",
    "all_letters = string.ascii_letters + \" .,;'\"\n",
    "n_letters = len(all_letters)\n",
    "\n",
    "# Turn a Unicode string to plain ASCII, thanks to https://stackoverflow.com/a/518232/2809427\n",
    "def unicodeToAscii(s):\n",
    "    return ''.join(\n",
    "        c for c in unicodedata.normalize('NFD', s)\n",
    "        if unicodedata.category(c) != 'Mn'\n",
    "        and c in all_letters\n",
    "    )\n",
    "\n",
    "print(unicodeToAscii('Ślusàrski'))\n",
    "\n",
    "# Build the category_lines dictionary, a list of names per language\n",
    "category_lines = {}\n",
    "all_categories = []\n",
    "\n",
    "# Read a file and split into lines\n",
    "def readLines(filename):\n",
    "    lines = open(filename, encoding='utf-8').read().strip().split('\\n')\n",
    "    return [unicodeToAscii(line) for line in lines]\n",
    "\n",
    "for filename in findFiles('data/names/*.txt'):\n",
    "    category = os.path.splitext(os.path.basename(filename))[0]\n",
    "    all_categories.append(category)\n",
    "    lines = readLines(filename)\n",
    "    category_lines[category] = lines\n",
    "\n",
    "n_categories = len(all_categories)"
   ]
  },
  {
   "cell_type": "code",
   "execution_count": 3,
   "metadata": {},
   "outputs": [
    {
     "name": "stdout",
     "output_type": "stream",
     "text": [
      "['Abandonato', 'Abatangelo', 'Abatantuono', 'Abate', 'Abategiovanni']\n"
     ]
    }
   ],
   "source": [
    "print(category_lines['Italian'][:5])"
   ]
  },
  {
   "cell_type": "code",
   "execution_count": 4,
   "metadata": {},
   "outputs": [
    {
     "data": {
      "text/plain": [
       "'!\"#$%&\\'()*+,-./:;<=>?@[\\\\]^_`{|}~'"
      ]
     },
     "execution_count": 4,
     "metadata": {},
     "output_type": "execute_result"
    }
   ],
   "source": [
    "string.punctuation"
   ]
  },
  {
   "cell_type": "code",
   "execution_count": 5,
   "metadata": {},
   "outputs": [
    {
     "name": "stdout",
     "output_type": "stream",
     "text": [
      "tensor([[0., 0., 0., 0., 0., 0., 0., 0., 0., 0., 0., 0., 0., 0., 0., 0., 0., 0.,\n",
      "         0., 0., 0., 0., 0., 0., 0., 0., 0., 0., 0., 0., 0., 0., 0., 0., 0., 0.,\n",
      "         1., 0., 0., 0., 0., 0., 0., 0., 0., 0., 0., 0., 0., 0., 0., 0., 0., 0.,\n",
      "         0., 0., 0., 0., 0., 0., 0., 0., 0., 0., 0., 0., 0., 0., 0., 0., 0., 0.,\n",
      "         0., 0., 0., 0., 0., 0., 0., 0., 0., 0., 0., 0.]])\n",
      "torch.Size([5, 1, 84])\n"
     ]
    }
   ],
   "source": [
    "import torch\n",
    "\n",
    "all_letters=string.ascii_letters + string.punctuation #character set\n",
    "n_letters=len(all_letters)\n",
    "\n",
    "def letter2idx(letter):\n",
    "    return all_letters.find(letter)\n",
    "\n",
    "def letter2tensor(letter):\n",
    "    tensor=torch.zeros(size=(1,n_letters))\n",
    "    tensor[0][letter2idx(letter)]=1\n",
    "    return tensor\n",
    "\n",
    "def line2tensor(line):\n",
    "    line_length=len(line)\n",
    "    tensor=torch.zeros(size=(line_length,1,n_letters))\n",
    "\n",
    "    for li,letter in enumerate(line):\n",
    "        tensor[li][0][letter2idx(letter)]=1\n",
    "    \n",
    "    return tensor\n",
    "\n",
    "print(letter2tensor('K'))\n",
    "print(line2tensor('Kevin').shape)\n"
   ]
  },
  {
   "cell_type": "code",
   "execution_count": 6,
   "metadata": {},
   "outputs": [],
   "source": [
    "import torch.nn as nn\n",
    "import torch.nn.functional as F\n",
    "class RNN(nn.Module):\n",
    "    def __init__(self,input_size,hidden_size,output_size):\n",
    "        super().__init__()\n",
    "        self.hidden_size=hidden_size\n",
    "        self.i2h=nn.Linear(in_features=input_size,out_features=hidden_size)\n",
    "        self.h2h=nn.Linear(in_features=hidden_size,out_features=hidden_size)\n",
    "        self.h2o=nn.Linear(in_features=hidden_size,out_features=output_size)\n",
    "\n",
    "        self.softmax=nn.LogSoftmax(dim=1)\n",
    "    \n",
    "    def forward(self,input,hidden):\n",
    "        #input being passed one by one\n",
    "        # 1,n_features\n",
    "        hidden=F.tanh(self.i2h(input) + self.h2h(hidden))\n",
    "        output=self.softmax(self.h2o(hidden))\n",
    "        return output,hidden\n",
    "    def initHidden(self):\n",
    "        h0=torch.zeros(1,self.hidden_size)\n",
    "        return h0\n",
    "\n",
    "n_hidden=128\n",
    "rnn=RNN(n_letters,n_hidden,n_categories)\n",
    "\n",
    "\n"
   ]
  },
  {
   "cell_type": "code",
   "execution_count": 7,
   "metadata": {},
   "outputs": [],
   "source": [
    "input = letter2tensor('K')\n",
    "hidden=torch.zeros(1,n_hidden)\n",
    "\n",
    "output,next_hidden=rnn(input,hidden)"
   ]
  },
  {
   "cell_type": "code",
   "execution_count": 8,
   "metadata": {},
   "outputs": [
    {
     "name": "stdout",
     "output_type": "stream",
     "text": [
      "tensor([[-2.8942, -2.8655, -2.8164, -2.9505, -2.8741, -3.0231, -2.8281, -2.8160,\n",
      "         -2.9266, -2.9943, -2.8863, -2.8227, -2.9360, -2.9450, -2.8729, -2.7850,\n",
      "         -2.8776, -2.9491]], grad_fn=<LogSoftmaxBackward0>)\n"
     ]
    }
   ],
   "source": [
    "input=line2tensor('Kevin')\n",
    "hidden=torch.zeros(1,n_hidden)\n",
    "\n",
    "output,next_hidden=rnn(input[0],hidden)\n",
    "print(output)"
   ]
  },
  {
   "cell_type": "code",
   "execution_count": 9,
   "metadata": {},
   "outputs": [
    {
     "name": "stdout",
     "output_type": "stream",
     "text": [
      "('Dutch', 15)\n"
     ]
    }
   ],
   "source": [
    "def categoryfromoutput(output):\n",
    "    top_n,top_i=output.topk(1)\n",
    "    category_i=top_i[0].item()\n",
    "    return all_categories[category_i],category_i\n",
    "\n",
    "print(categoryfromoutput(output))\n",
    "\n"
   ]
  },
  {
   "cell_type": "code",
   "execution_count": 10,
   "metadata": {},
   "outputs": [
    {
     "name": "stdout",
     "output_type": "stream",
     "text": [
      "category= German | line= Schirmer\n",
      "category= Czech | line= Naizer\n",
      "category= Dutch | line= Snaijer\n",
      "category= Czech | line= Metjeka\n",
      "category= Italian | line= Ongaro\n",
      "category= Scottish | line= Hay\n",
      "category= Scottish | line= Mackenzie\n",
      "category= Czech | line= Wizner\n",
      "category= Portuguese | line= Machado\n",
      "category= Spanish | line= Vargas\n",
      "category= Italian | line= Traversa\n",
      "category= Polish | line= Koziol\n",
      "category= Polish | line= Sokoloff\n",
      "category= French | line= Lestrange\n",
      "category= Arabic | line= Sleiman\n",
      "category= Japanese | line= Motoyoshi\n",
      "category= Japanese | line= Arita\n",
      "category= Czech | line= Svejda\n",
      "category= Korean | line= Byon\n",
      "category= Greek | line= Milionis\n"
     ]
    }
   ],
   "source": [
    "import random\n",
    "def randomChoice(l):\n",
    "    idx=random.randint(0,len(l)-1)\n",
    "    return l[idx]\n",
    "\n",
    "def randomTrainingexample():\n",
    "    category=randomChoice(all_categories)\n",
    "    line=randomChoice(category_lines[category])\n",
    "\n",
    "    category_tensor=torch.tensor([all_categories.index(category)],dtype=torch.long)\n",
    "    line_tensor=line2tensor(line)\n",
    "    return category,line,category_tensor,line_tensor\n",
    "\n",
    "\n",
    "for i in range(20):\n",
    "    category,line,category_tensor,line_tensor=randomTrainingexample()\n",
    "    print('category=',category,'| line=',line)\n",
    "\n",
    "    \n"
   ]
  },
  {
   "cell_type": "code",
   "execution_count": 11,
   "metadata": {},
   "outputs": [
    {
     "name": "stdout",
     "output_type": "stream",
     "text": [
      "tensor([[0., 0., 0., 0., 0., 0., 0., 0., 0., 0., 0., 0., 0., 0., 0., 0., 0., 0.,\n",
      "         0., 0., 0., 0., 0., 0., 0., 0., 0., 0., 0., 0., 0., 0., 0., 0., 0., 0.,\n",
      "         0., 0., 1., 0., 0., 0., 0., 0., 0., 0., 0., 0., 0., 0., 0., 0., 0., 0.,\n",
      "         0., 0., 0., 0., 0., 0., 0., 0., 0., 0., 0., 0., 0., 0., 0., 0., 0., 0.,\n",
      "         0., 0., 0., 0., 0., 0., 0., 0., 0., 0., 0., 0.]])\n"
     ]
    }
   ],
   "source": [
    "print(line_tensor[0])"
   ]
  },
  {
   "cell_type": "code",
   "execution_count": 12,
   "metadata": {},
   "outputs": [],
   "source": [
    "criterion=nn.NLLLoss()\n",
    "\n",
    "learning_rate=0.005\n",
    "\n",
    "def train(category_tensor,line_tensor):\n",
    "    hidden=rnn.initHidden()\n",
    "\n",
    "    rnn.zero_grad()\n",
    "    for i in range(line_tensor.size()[0]):\n",
    "        output,hidden=rnn(line_tensor[i],hidden)\n",
    "\n",
    "    loss=criterion(output,category_tensor)\n",
    "    loss.backward()\n",
    "\n",
    "    for p in rnn.parameters():\n",
    "        p.data.add_(p.grad.data,alpha=-learning_rate)\n",
    "    return output, loss.item()"
   ]
  },
  {
   "cell_type": "code",
   "execution_count": 13,
   "metadata": {},
   "outputs": [
    {
     "name": "stdout",
     "output_type": "stream",
     "text": [
      "5000 5% (0m 5s) 2.7098 Rocha / Japanese ✗ (Spanish)\n",
      "10000 10% (0m 10s) 1.6229 Duong / Vietnamese ✓\n",
      "15000 15% (0m 15s) 1.2725 Cardozo / Portuguese ✓\n",
      "20000 20% (0m 20s) 2.2909 Koumans / English ✗ (Dutch)\n",
      "25000 25% (0m 26s) 1.0068 Miyoshi / Arabic ✗ (Japanese)\n",
      "30000 30% (0m 31s) 0.9352 Ho / Vietnamese ✓\n",
      "35000 35% (0m 37s) 2.0975 Nifterick / Polish ✗ (Dutch)\n",
      "40000 40% (0m 42s) 0.9469 Machacek / Czech ✓\n",
      "45000 45% (0m 48s) 0.2886 Mai / Chinese ✓\n",
      "50000 50% (0m 53s) 0.0851 Alberighi / Italian ✓\n",
      "55000 55% (0m 59s) 2.9655 Morales / Greek ✗ (Spanish)\n",
      "60000 60% (1m 4s) 1.5541 Kaluza / Arabic ✗ (Polish)\n",
      "65000 65% (1m 10s) 0.0966 Patselas / Greek ✓\n",
      "70000 70% (1m 15s) 0.4723 Yan / Chinese ✓\n",
      "75000 75% (1m 21s) 0.0572 Pefanis / Greek ✓\n",
      "80000 80% (1m 26s) 1.4322 Martin / Irish ✗ (Scottish)\n",
      "85000 85% (1m 32s) 0.1965 Adamczak / Polish ✓\n",
      "90000 90% (1m 37s) 0.2480 Lindsay / Scottish ✓\n",
      "95000 95% (1m 42s) 1.0036 Thorley / English ✓\n",
      "100000 100% (1m 47s) 0.1281 Sinclair / Scottish ✓\n"
     ]
    }
   ],
   "source": [
    "\n",
    "import time\n",
    "import math\n",
    "\n",
    "n_iters = 100000\n",
    "print_every = 5000\n",
    "plot_every = 1000\n",
    "\n",
    "\n",
    "\n",
    "# Keep track of losses for plotting\n",
    "current_loss = 0\n",
    "all_losses = []\n",
    "\n",
    "def timeSince(since):\n",
    "    now = time.time()\n",
    "    s = now - since\n",
    "    m = math.floor(s / 60)\n",
    "    s -= m * 60\n",
    "    return '%dm %ds' % (m, s)\n",
    "\n",
    "start = time.time()\n",
    "\n",
    "for iter in range(1, n_iters + 1):\n",
    "    category, line, category_tensor, line_tensor = randomTrainingexample()\n",
    "    output, loss = train(category_tensor, line_tensor)\n",
    "    current_loss += loss\n",
    "\n",
    "    \n",
    "    if iter % print_every == 0:\n",
    "        guess, guess_i = categoryfromoutput(output)\n",
    "        correct = '✓' if guess == category else '✗ (%s)' % category\n",
    "        print('%d %d%% (%s) %.4f %s / %s %s' % (iter, iter / n_iters * 100, timeSince(start), loss, line, guess, correct))\n",
    "\n",
    "    # Add current loss avg to list of losses\n",
    "    if iter % plot_every == 0:\n",
    "        all_losses.append(current_loss / plot_every)\n",
    "        current_loss = 0"
   ]
  },
  {
   "cell_type": "code",
   "execution_count": 14,
   "metadata": {},
   "outputs": [
    {
     "data": {
      "text/plain": [
       "[<matplotlib.lines.Line2D at 0x164cd9c40>]"
      ]
     },
     "execution_count": 14,
     "metadata": {},
     "output_type": "execute_result"
    },
    {
     "data": {
      "image/png": "[encoded data removed]",
      "text/plain": [
       "<Figure size 640x480 with 1 Axes>"
      ]
     },
     "metadata": {},
     "output_type": "display_data"
    }
   ],
   "source": [
    "import matplotlib.pyplot as plt\n",
    "import matplotlib.ticker as ticker\n",
    "\n",
    "plt.figure()\n",
    "plt.plot(all_losses)"
   ]
  },
  {
   "cell_type": "code",
   "execution_count": 17,
   "metadata": {},
   "outputs": [
    {
     "name": "stderr",
     "output_type": "stream",
     "text": [
      "/var/folders/7j/6p_pd3gd44zfw3nn6n10_pnh0000gn/T/ipykernel_2157/2800986656.py:36: UserWarning: set_ticklabels() should only be used with a fixed number of ticks, i.e. after set_ticks() or using a FixedLocator.\n",
      "  ax.set_xticklabels([''] + all_categories, rotation=90)\n",
      "/var/folders/7j/6p_pd3gd44zfw3nn6n10_pnh0000gn/T/ipykernel_2157/2800986656.py:37: UserWarning: set_ticklabels() should only be used with a fixed number of ticks, i.e. after set_ticks() or using a FixedLocator.\n",
      "  ax.set_yticklabels([''] + all_categories)\n"
     ]
    },
    {
     "data": {
      "image/png": "[encoded data removed]",
      "text/plain": [
       "<Figure size 640x480 with 2 Axes>"
      ]
     },
     "metadata": {},
     "output_type": "display_data"
    }
   ],
   "source": [
    "## Evaluating the results\n",
    "\n",
    "\n",
    "confusion=torch.zeros(n_categories,n_categories)\n",
    "n_confusion=10000\n",
    "\n",
    "def evaluate(line_tensor):\n",
    "    hidden=rnn.initHidden()\n",
    "\n",
    "    for i in range(line_tensor.size()[0]):\n",
    "        output,hidden=rnn(line_tensor[i],hidden)\n",
    "    \n",
    "    return output\n",
    "\n",
    "\n",
    "for i in range(n_confusion):\n",
    "    category,line,category_tensor,line_tensor=randomTrainingexample()\n",
    "    output=evaluate(line_tensor)\n",
    "\n",
    "    guess,guess_i=categoryfromoutput(output)\n",
    "    category_i=all_categories.index(category)\n",
    "\n",
    "    confusion[category_i][guess_i]+=1\n",
    "\n",
    "\n",
    "for i in range(n_categories):\n",
    "    confusion[i]=confusion[i] / confusion[i].sum()\n",
    "\n",
    "fig, ax = plt.subplots()  # fig and ax are created here\n",
    "\n",
    "# Display the confusion matrix\n",
    "cax = ax.matshow(confusion.numpy(), cmap='viridis')  # Add cmap for color scheme\n",
    "fig.colorbar(cax)  # Add color bar\n",
    "\n",
    "# Set labels\n",
    "ax.set_xticklabels([''] + all_categories, rotation=90)\n",
    "ax.set_yticklabels([''] + all_categories)\n",
    "\n",
    "# Set major tick locations\n",
    "ax.xaxis.set_major_locator(ticker.MultipleLocator(1))\n",
    "ax.yaxis.set_major_locator(ticker.MultipleLocator(1))\n",
    "\n",
    "plt.show()\n",
    "\n",
    "plt.show()"
   ]
  }
 ],
 "metadata": {
  "kernelspec": {
   "display_name": "deep_learning",
   "language": "python",
   "name": "python3"
  },
  "language_info": {
   "codemirror_mode": {
    "name": "ipython",
    "version": 3
   },
   "file_extension": ".py",
   "mimetype": "text/x-python",
   "name": "python",
   "nbconvert_exporter": "python",
   "pygments_lexer": "ipython3",
   "version": "3.12.3"
  }
 },
 "nbformat": 4,
 "nbformat_minor": 2
}
